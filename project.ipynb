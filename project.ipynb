{
 "cells": [
  {
   "cell_type": "code",
   "execution_count": 1,
   "metadata": {},
   "outputs": [],
   "source": [
    "import pandas as pd\n",
    "import numpy as np\n",
    "from sklearn.metrics.pairwise import cosine_similarity\n",
    "from sklearn.preprocessing import MinMaxScaler"
   ]
  },
  {
   "cell_type": "code",
   "execution_count": 2,
   "metadata": {},
   "outputs": [
    {
     "name": "stdout",
     "output_type": "stream",
     "text": [
      "   Unnamed: 0                track_id                 artists  \\\n",
      "0           0  5SuOikwiRyPMVoIQDJUgSV             Gen Hoshino   \n",
      "1           1  4qPNDBW1i3p13qLCt0Ki3A            Ben Woodward   \n",
      "2           2  1iJBSr7s7jYXzM8EGcbK5b  Ingrid Michaelson;ZAYN   \n",
      "3           3  6lfxq3CG4xtTiEg7opyCyx            Kina Grannis   \n",
      "4           4  5vjLSffimiIP26QG5WcN2K        Chord Overstreet   \n",
      "\n",
      "                                          album_name  \\\n",
      "0                                             Comedy   \n",
      "1                                   Ghost (Acoustic)   \n",
      "2                                     To Begin Again   \n",
      "3  Crazy Rich Asians (Original Motion Picture Sou...   \n",
      "4                                            Hold On   \n",
      "\n",
      "                   track_name  popularity  duration_ms  explicit  \\\n",
      "0                      Comedy          73       230666     False   \n",
      "1            Ghost - Acoustic          55       149610     False   \n",
      "2              To Begin Again          57       210826     False   \n",
      "3  Can't Help Falling In Love          71       201933     False   \n",
      "4                     Hold On          82       198853     False   \n",
      "\n",
      "   danceability  energy  ...  loudness  mode  speechiness  acousticness  \\\n",
      "0         0.676  0.4610  ...    -6.746     0       0.1430        0.0322   \n",
      "1         0.420  0.1660  ...   -17.235     1       0.0763        0.9240   \n",
      "2         0.438  0.3590  ...    -9.734     1       0.0557        0.2100   \n",
      "3         0.266  0.0596  ...   -18.515     1       0.0363        0.9050   \n",
      "4         0.618  0.4430  ...    -9.681     1       0.0526        0.4690   \n",
      "\n",
      "   instrumentalness  liveness  valence    tempo  time_signature  track_genre  \n",
      "0          0.000001    0.3580    0.715   87.917               4     acoustic  \n",
      "1          0.000006    0.1010    0.267   77.489               4     acoustic  \n",
      "2          0.000000    0.1170    0.120   76.332               4     acoustic  \n",
      "3          0.000071    0.1320    0.143  181.740               3     acoustic  \n",
      "4          0.000000    0.0829    0.167  119.949               4     acoustic  \n",
      "\n",
      "[5 rows x 21 columns]\n"
     ]
    }
   ],
   "source": [
    "# Load the dataset\n",
    "df = pd.read_csv(r\"dataset.csv\")\n",
    "\n",
    "# Display the first few rows\n",
    "print(df.head())"
   ]
  },
  {
   "cell_type": "code",
   "execution_count": 3,
   "metadata": {},
   "outputs": [
    {
     "name": "stdout",
     "output_type": "stream",
     "text": [
      "Sampled dataset indices: RangeIndex(start=0, stop=5000, step=1)\n"
     ]
    }
   ],
   "source": [
    "df_sampled = df.sample(n=5000, random_state=42)  # Adjust n as needed\n",
    "# Reset the index of the sampled dataset\n",
    "df_sampled = df_sampled.reset_index(drop=True)\n",
    "\n",
    "# Check the new index\n",
    "print(\"Sampled dataset indices:\", df_sampled.index)"
   ]
  },
  {
   "cell_type": "code",
   "execution_count": 4,
   "metadata": {},
   "outputs": [],
   "source": [
    "# Drop unnecessary columns\n",
    "df = df.drop(columns=['track_id', 'artists', 'album_name', 'track_name', 'track_genre'])"
   ]
  },
  {
   "cell_type": "code",
   "execution_count": 5,
   "metadata": {},
   "outputs": [
    {
     "name": "stdout",
     "output_type": "stream",
     "text": [
      "Unnamed: 0          0\n",
      "popularity          0\n",
      "duration_ms         0\n",
      "explicit            0\n",
      "danceability        0\n",
      "energy              0\n",
      "key                 0\n",
      "loudness            0\n",
      "mode                0\n",
      "speechiness         0\n",
      "acousticness        0\n",
      "instrumentalness    0\n",
      "liveness            0\n",
      "valence             0\n",
      "tempo               0\n",
      "time_signature      0\n",
      "dtype: int64\n"
     ]
    }
   ],
   "source": [
    "# Check for missing values\n",
    "print(df.isnull().sum())\n",
    "\n",
    "# Drop rows with missing values (if any)\n",
    "df = df.dropna()"
   ]
  },
  {
   "cell_type": "code",
   "execution_count": 6,
   "metadata": {},
   "outputs": [],
   "source": [
    "# Initialize the scaler\n",
    "scaler = MinMaxScaler()\n",
    "\n",
    "# Normalize numerical columns\n",
    "numerical_cols = ['popularity', 'duration_ms', 'danceability', 'energy', 'loudness', \n",
    "                  'speechiness', 'acousticness', 'instrumentalness', 'liveness', \n",
    "                  'valence', 'tempo']\n",
    "df[numerical_cols] = scaler.fit_transform(df[numerical_cols])"
   ]
  },
  {
   "cell_type": "code",
   "execution_count": 7,
   "metadata": {},
   "outputs": [],
   "source": [
    "# Feature matrix\n",
    "X = df.drop(columns=['mode'])  # Drop the target column (if any)"
   ]
  },
  {
   "cell_type": "code",
   "execution_count": 8,
   "metadata": {},
   "outputs": [],
   "source": [
    "# Sample a smaller subset of the dataset\n",
    "df_sampled = df.sample(n=5000, random_state=42)  # Adjust n as needed\n",
    "X_sampled = df_sampled.drop(columns=['mode'])\n"
   ]
  },
  {
   "cell_type": "code",
   "execution_count": 9,
   "metadata": {},
   "outputs": [
    {
     "name": "stdout",
     "output_type": "stream",
     "text": [
      "        113186  42819   59311   91368   61000   96815   18939   72760   \\\n",
      "113186     1.0     1.0     1.0     1.0     1.0     1.0     1.0     1.0   \n",
      "42819      1.0     1.0     1.0     1.0     1.0     1.0     1.0     1.0   \n",
      "59311      1.0     1.0     1.0     1.0     1.0     1.0     1.0     1.0   \n",
      "91368      1.0     1.0     1.0     1.0     1.0     1.0     1.0     1.0   \n",
      "61000      1.0     1.0     1.0     1.0     1.0     1.0     1.0     1.0   \n",
      "\n",
      "        25788   87169   ...    2805    84494   51053   47932   81834   18241   \\\n",
      "113186     1.0     1.0  ...  0.999997     1.0     1.0     1.0     1.0     1.0   \n",
      "42819      1.0     1.0  ...  0.999997     1.0     1.0     1.0     1.0     1.0   \n",
      "59311      1.0     1.0  ...  0.999997     1.0     1.0     1.0     1.0     1.0   \n",
      "91368      1.0     1.0  ...  0.999997     1.0     1.0     1.0     1.0     1.0   \n",
      "61000      1.0     1.0  ...  0.999997     1.0     1.0     1.0     1.0     1.0   \n",
      "\n",
      "        42766   52377   27380   75356   \n",
      "113186     1.0     1.0     1.0     1.0  \n",
      "42819      1.0     1.0     1.0     1.0  \n",
      "59311      1.0     1.0     1.0     1.0  \n",
      "91368      1.0     1.0     1.0     1.0  \n",
      "61000      1.0     1.0     1.0     1.0  \n",
      "\n",
      "[5 rows x 5000 columns]\n"
     ]
    }
   ],
   "source": [
    "cosine_sim = cosine_similarity(X_sampled, X_sampled)\n",
    "\n",
    "# Convert to a DataFrame for easier indexing\n",
    "cosine_sim_df = pd.DataFrame(cosine_sim, index=df_sampled.index, columns=df_sampled.index)\n",
    "\n",
    "# Display the cosine similarity matrix\n",
    "print(cosine_sim_df.head())"
   ]
  },
  {
   "cell_type": "code",
   "execution_count": 10,
   "metadata": {},
   "outputs": [],
   "source": [
    "def recommend_songs(track_index, num_recommendations=5):\n",
    "    \"\"\"\n",
    "    Recommends songs similar to the one identified by track_index.\n",
    "    Args:\n",
    "        track_index (int): Index of the track to find recommendations for.\n",
    "        num_recommendations (int): Number of recommendations to return.\n",
    "    Returns:\n",
    "        pd.DataFrame: DataFrame containing the recommended songs.\n",
    "    \"\"\"\n",
    "    # Check if the track_index exists in the cosine_sim_df\n",
    "    if track_index not in cosine_sim_df.index:\n",
    "        raise ValueError(f\"Track index {track_index} not found in cosine similarity DataFrame.\")\n",
    "\n",
    "    # Get similarity scores for the given track\n",
    "    sim_scores = list(enumerate(cosine_sim_df.loc[track_index]))\n",
    "    \n",
    "    # Sort songs based on similarity scores\n",
    "    sim_scores = sorted(sim_scores, key=lambda x: x[1], reverse=True)\n",
    "    \n",
    "    # Get the top N recommendations (excluding the track itself)\n",
    "    sim_scores = sim_scores[1:num_recommendations+1]\n",
    "    \n",
    "    # Get track indices\n",
    "    track_indices = [i[0] for i in sim_scores]\n",
    "    \n",
    "    # Return recommended tracks\n",
    "    return df_sampled.iloc[track_indices]\n"
   ]
  },
  {
   "cell_type": "code",
   "execution_count": 11,
   "metadata": {},
   "outputs": [
    {
     "name": "stdout",
     "output_type": "stream",
     "text": [
      "Available indices: Index([113186,  42819,  59311,  91368,  61000,  96815,  18939,  72760,  25788,\n",
      "        87169,\n",
      "       ...\n",
      "         2805,  84494,  51053,  47932,  81834,  18241,  42766,  52377,  27380,\n",
      "        75356],\n",
      "      dtype='int64', length=5000)\n",
      "Using valid track index: 113186\n",
      "Recommended Songs:\n",
      "        Unnamed: 0  popularity  duration_ms  explicit  danceability  energy  \\\n",
      "111569      111569        0.52     0.053210     False      0.580711   0.738   \n",
      "110082      110082        0.51     0.038437     False      0.569543   0.903   \n",
      "106341      106341        0.41     0.057793     False      0.372589   0.469   \n",
      "110582      110582        0.51     0.029637     False      0.743147   0.966   \n",
      "111626      111626        0.19     0.048152     False      0.676142   0.512   \n",
      "\n",
      "        key  loudness  mode  speechiness  acousticness  instrumentalness  \\\n",
      "111569    7  0.791540     1     0.036062      0.028213            0.0274   \n",
      "110082    7  0.826129     0     0.047979      0.009207            0.0613   \n",
      "106341    7  0.762777     1     0.028497      0.070783            0.0179   \n",
      "110582    7  0.809463     1     0.165803      0.024297            0.1080   \n",
      "111626    7  0.677247     1     0.034197      0.058735            0.0290   \n",
      "\n",
      "        liveness   valence     tempo  time_signature  \n",
      "111569    0.0555  0.216080  0.665438               4  \n",
      "110082    0.1880  0.084422  0.567366               4  \n",
      "106341    0.1180  0.281407  0.719590               4  \n",
      "110582    0.2680  0.094573  0.567243               4  \n",
      "111626    0.2190  0.389950  0.384194               4  \n"
     ]
    }
   ],
   "source": [
    "print(\"Available indices:\", cosine_sim_df.index)\n",
    "\n",
    "# Ensure to use a valid track index\n",
    "valid_track_index = cosine_sim_df.index[0]  # Get the first valid index\n",
    "print(f\"Using valid track index: {valid_track_index}\")\n",
    "\n",
    "# Get recommendations\n",
    "recommended_songs = recommend_songs(valid_track_index)  # Recommend songs similar to the first valid track\n",
    "print(\"Recommended Songs:\")\n",
    "print(recommended_songs)"
   ]
  }
 ],
 "metadata": {
  "kernelspec": {
   "display_name": "Python 3",
   "language": "python",
   "name": "python3"
  },
  "language_info": {
   "codemirror_mode": {
    "name": "ipython",
    "version": 3
   },
   "file_extension": ".py",
   "mimetype": "text/x-python",
   "name": "python",
   "nbconvert_exporter": "python",
   "pygments_lexer": "ipython3",
   "version": "3.12.8"
  }
 },
 "nbformat": 4,
 "nbformat_minor": 2
}
